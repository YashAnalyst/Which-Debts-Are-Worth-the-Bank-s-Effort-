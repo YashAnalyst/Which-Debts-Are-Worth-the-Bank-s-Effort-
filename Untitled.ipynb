{
 "cells": [
  {
   "cell_type": "code",
   "execution_count": 1,
   "id": "d1410e2f",
   "metadata": {},
   "outputs": [
    {
     "data": {
      "text/plain": [
       "('bank_data.csv', <http.client.HTTPMessage object at 0x000001F6A719CC10>)"
      ]
     },
     "execution_count": 1,
     "metadata": {},
     "output_type": "execute_result"
    }
   ],
   "source": [
    "import urllib.request\n",
    "\n",
    "url = 'https://raw.githubusercontent.com/AilingLiu/Which-Debts-Are-Worth-the-Bank-s-Effort/master/datasets/bank_data.csv'\n",
    "urllib.request.urlretrieve(url, 'bank_data.csv')"
   ]
  },
  {
   "cell_type": "code",
   "execution_count": null,
   "id": "977c0ef3",
   "metadata": {},
   "outputs": [],
   "source": []
  }
 ],
 "metadata": {
  "kernelspec": {
   "display_name": "Python 3.9 (XPython Raw)",
   "language": "python",
   "name": "xpython-raw"
  },
  "language_info": {
   "file_extension": ".py",
   "mimetype": "text/x-python",
   "name": "python",
   "version": "3.9.13"
  }
 },
 "nbformat": 4,
 "nbformat_minor": 5
}
